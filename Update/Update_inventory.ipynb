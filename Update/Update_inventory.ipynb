{
 "cells": [
  {
   "cell_type": "code",
   "execution_count": 5,
   "metadata": {},
   "outputs": [],
   "source": [
    "import mysql.connector\n",
    "import pandas as pd\n",
    "import passwords\n",
    "\n",
    "mydb = mysql.connector.connect(\n",
    "    host = passwords.host,\n",
    "    user = passwords.user,\n",
    "    password = passwords.password,\n",
    "    database = 'bar_invetory'\n",
    ")\n",
    "\n",
    "mycursor = mydb.cursor()"
   ]
  },
  {
   "cell_type": "code",
   "execution_count": 6,
   "metadata": {},
   "outputs": [
    {
     "name": "stdin",
     "output_type": "stream",
     "text": [
      "Change:  Price\n",
      "Of SKU:  Chateau Bellevue Bordeaux\n",
      "To:  11.69\n"
     ]
    },
    {
     "data": {
      "text/html": [
       "<div>\n",
       "<style scoped>\n",
       "    .dataframe tbody tr th:only-of-type {\n",
       "        vertical-align: middle;\n",
       "    }\n",
       "\n",
       "    .dataframe tbody tr th {\n",
       "        vertical-align: top;\n",
       "    }\n",
       "\n",
       "    .dataframe thead th {\n",
       "        text-align: right;\n",
       "    }\n",
       "</style>\n",
       "<table border=\"1\" class=\"dataframe\">\n",
       "  <thead>\n",
       "    <tr style=\"text-align: right;\">\n",
       "      <th></th>\n",
       "      <th>SKU</th>\n",
       "      <th>Brand</th>\n",
       "      <th>Liquor</th>\n",
       "      <th>Subliquor</th>\n",
       "      <th>Volume</th>\n",
       "      <th>Price</th>\n",
       "      <th>Rating</th>\n",
       "      <th>OrderDate</th>\n",
       "    </tr>\n",
       "  </thead>\n",
       "  <tbody>\n",
       "    <tr>\n",
       "      <th>0</th>\n",
       "      <td>Chateau Bellevue Bordeaux</td>\n",
       "      <td>Chateau Bellevue</td>\n",
       "      <td>Red Wine</td>\n",
       "      <td>Bordeaux</td>\n",
       "      <td>750</td>\n",
       "      <td>11.69</td>\n",
       "      <td>91</td>\n",
       "      <td>2021-04-28</td>\n",
       "    </tr>\n",
       "  </tbody>\n",
       "</table>\n",
       "</div>"
      ],
      "text/plain": [
       "                         SKU             Brand    Liquor Subliquor  Volume  \\\n",
       "0  Chateau Bellevue Bordeaux  Chateau Bellevue  Red Wine  Bordeaux     750   \n",
       "\n",
       "   Price  Rating   OrderDate  \n",
       "0  11.69      91  2021-04-28  "
      ]
     },
     "execution_count": 6,
     "metadata": {},
     "output_type": "execute_result"
    }
   ],
   "source": [
    "col = input(\"Change: \")\n",
    "sku = input(\"Of SKU: \")\n",
    "val = input(\"To: \")\n",
    "\n",
    "mycursor.execute(f'''update inventory set {col} = {val} where sku = \"{sku}\"''')\n",
    "mydb.commit()\n",
    "\n",
    "\n",
    "mycursor.execute(f'''select * from inventory where sku like \"%{sku}%\"''')\n",
    "\n",
    "mydata = mycursor.fetchall()\n",
    "df = pd.DataFrame(mydata)\n",
    "df.columns = (\"SKU\", \"Brand\", \"Liquor\", \"Subliquor\", \"Volume\", \"Price\", \"Rating\", \"OrderDate\")\n",
    "df"
   ]
  },
  {
   "cell_type": "code",
   "execution_count": null,
   "metadata": {},
   "outputs": [],
   "source": []
  }
 ],
 "metadata": {
  "kernelspec": {
   "display_name": "Python 3",
   "language": "python",
   "name": "python3"
  },
  "language_info": {
   "codemirror_mode": {
    "name": "ipython",
    "version": 3
   },
   "file_extension": ".py",
   "mimetype": "text/x-python",
   "name": "python",
   "nbconvert_exporter": "python",
   "pygments_lexer": "ipython3",
   "version": "3.8.5"
  }
 },
 "nbformat": 4,
 "nbformat_minor": 4
}
