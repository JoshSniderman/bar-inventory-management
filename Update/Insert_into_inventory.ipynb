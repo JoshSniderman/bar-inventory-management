{
 "cells": [
  {
   "cell_type": "code",
   "execution_count": 1,
   "metadata": {},
   "outputs": [],
   "source": [
    "import mysql.connector\n",
    "import passwords\n",
    "\n",
    "mydb = mysql.connector.connect(\n",
    "    host = passwords.host,\n",
    "    user = passwords.user,\n",
    "    password = passwords.password,\n",
    "    database = 'bar_invetory'\n",
    ")\n",
    "\n",
    "mycursor = mydb.cursor()"
   ]
  },
  {
   "cell_type": "code",
   "execution_count": 2,
   "metadata": {},
   "outputs": [
    {
     "name": "stdin",
     "output_type": "stream",
     "text": [
      "SKU =  Chateau Bellevue Bordeaux\n",
      "Brand =  Chateau Bellevue\n",
      "Liquor =  Red Wine\n",
      "Subliquor =  Bordeaux\n",
      "Volume =  750\n",
      "Price =  11.69\n",
      "Rating =  91\n",
      "Date (yyyy/mm/dd) =  2021/04/28\n"
     ]
    },
    {
     "name": "stdout",
     "output_type": "stream",
     "text": [
      "\n",
      "1 rows inserted.\n"
     ]
    }
   ],
   "source": [
    "sku = input(\"SKU = \")\n",
    "b = input(\"Brand = \")\n",
    "l = input(\"Liquor = \")\n",
    "s = input(\"Subliquor = \")\n",
    "v = input(\"Volume = \")\n",
    "p = input(\"Price = \")\n",
    "r = input(\"Rating = \")\n",
    "d = input(\"Date (yyyy/mm/dd) = \")\n",
    "\n",
    "d = d.replace(\"/\", \"\")\n",
    "\n",
    "val = (sku, b, l, s, v, p, r, d)\n",
    "\n",
    "mycursor.execute(f'''insert inventory values \n",
    "                (\"{sku}\", \"{b}\", \"{l}\", \"{s}\", {v}, {p}, {r}, {d})\n",
    "                ''')\n",
    "\n",
    "mydb.commit()\n",
    "\n",
    "print()\n",
    "print(f\"{mycursor.rowcount} rows inserted.\")"
   ]
  },
  {
   "cell_type": "code",
   "execution_count": null,
   "metadata": {},
   "outputs": [],
   "source": []
  }
 ],
 "metadata": {
  "kernelspec": {
   "display_name": "Python 3",
   "language": "python",
   "name": "python3"
  },
  "language_info": {
   "codemirror_mode": {
    "name": "ipython",
    "version": 3
   },
   "file_extension": ".py",
   "mimetype": "text/x-python",
   "name": "python",
   "nbconvert_exporter": "python",
   "pygments_lexer": "ipython3",
   "version": "3.8.5"
  }
 },
 "nbformat": 4,
 "nbformat_minor": 4
}
