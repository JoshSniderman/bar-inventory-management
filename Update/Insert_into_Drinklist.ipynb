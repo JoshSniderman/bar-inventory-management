{
 "cells": [
  {
   "cell_type": "code",
   "execution_count": 1,
   "metadata": {},
   "outputs": [],
   "source": [
    "import mysql.connector\n",
    "import passwords\n",
    "\n",
    "mydb = mysql.connector.connect(\n",
    "    host = passwords.host,\n",
    "    user = passwords.user,\n",
    "    password = passwords.password,\n",
    "    database = 'bar_invetory'\n",
    ")\n",
    "\n",
    "mycursor = mydb.cursor()"
   ]
  },
  {
   "cell_type": "code",
   "execution_count": 2,
   "metadata": {},
   "outputs": [
    {
     "name": "stdin",
     "output_type": "stream",
     "text": [
      "Cocktail name:  Rum & Coke (Bacardi)\n",
      "Number of ingredients:  2\n"
     ]
    },
    {
     "name": "stdout",
     "output_type": "stream",
     "text": [
      "\n"
     ]
    },
    {
     "name": "stdin",
     "output_type": "stream",
     "text": [
      "Ingredient:  Bacardi Superior\n",
      "Amount (oz.):  8\n"
     ]
    },
    {
     "name": "stdout",
     "output_type": "stream",
     "text": [
      "\n"
     ]
    },
    {
     "name": "stdin",
     "output_type": "stream",
     "text": [
      "Ingredient:  Coke\n",
      "Amount (oz.):  24\n"
     ]
    },
    {
     "name": "stdout",
     "output_type": "stream",
     "text": [
      "\n",
      "2 ingredients added.\n",
      "\n"
     ]
    },
    {
     "name": "stdin",
     "output_type": "stream",
     "text": [
      "Price:  3.50\n"
     ]
    },
    {
     "name": "stdout",
     "output_type": "stream",
     "text": [
      "\n",
      "Price $3.50 inserted.\n"
     ]
    }
   ],
   "source": [
    "ct = input(\"Cocktail name: \")\n",
    "ins = input(\"Number of ingredients: \")\n",
    "count = 0\n",
    "print()\n",
    "\n",
    "ins = int(ins)\n",
    "\n",
    "while ins > 0:\n",
    "    ing = input(\"Ingredient: \")\n",
    "    vol = input(\"Amount (oz.): \")\n",
    "    print()\n",
    "    mycursor.execute(f'''insert drinklist values \n",
    "                (\"{ct}\", \"{ing}\", {vol})\n",
    "                ''')\n",
    "    ins -= 1\n",
    "    count += 1\n",
    "\n",
    "\n",
    "mydb.commit()\n",
    "\n",
    "print(f\"{count} ingredients added.\")\n",
    "print()\n",
    "\n",
    "pri = input(\"Price: \")\n",
    "\n",
    "mycursor.execute(f'''insert into drink_price values \n",
    "                (\"{ct}\", {pri})\n",
    "                ''')\n",
    "\n",
    "mydb.commit()\n",
    "\n",
    "print()\n",
    "print(f\"Price ${pri} inserted.\")"
   ]
  },
  {
   "cell_type": "code",
   "execution_count": null,
   "metadata": {},
   "outputs": [],
   "source": []
  }
 ],
 "metadata": {
  "kernelspec": {
   "display_name": "Python 3",
   "language": "python",
   "name": "python3"
  },
  "language_info": {
   "codemirror_mode": {
    "name": "ipython",
    "version": 3
   },
   "file_extension": ".py",
   "mimetype": "text/x-python",
   "name": "python",
   "nbconvert_exporter": "python",
   "pygments_lexer": "ipython3",
   "version": "3.8.5"
  }
 },
 "nbformat": 4,
 "nbformat_minor": 4
}
