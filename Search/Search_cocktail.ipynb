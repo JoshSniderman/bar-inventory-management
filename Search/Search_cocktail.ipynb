{
 "cells": [
  {
   "cell_type": "code",
   "execution_count": 1,
   "metadata": {},
   "outputs": [],
   "source": [
    "import mysql.connector\n",
    "import pandas as pd\n",
    "import passwords\n",
    "\n",
    "mydb = mysql.connector.connect(\n",
    "    host = passwords.host,\n",
    "    user = passwords.user,\n",
    "    password = passwords.password,\n",
    "    database = 'bar_invetory'\n",
    ")\n",
    "\n",
    "mycursor = mydb.cursor()"
   ]
  },
  {
   "cell_type": "code",
   "execution_count": 2,
   "metadata": {},
   "outputs": [
    {
     "name": "stdin",
     "output_type": "stream",
     "text": [
      "Cocktail:  Rum & Coke (Bacardi)\n"
     ]
    },
    {
     "name": "stdout",
     "output_type": "stream",
     "text": [
      "\n",
      "Ingredient, Amount:\n",
      "Bacardi Superior, 8 oz.\n",
      "Coke, 24 oz.\n",
      "\n",
      "Price of cocktail:\n",
      "$3.50\n",
      "\n",
      "Cost to make cocktail:\n",
      "$0.81\n",
      "\n",
      "Profit from cocktail:\n",
      "$2.69\n"
     ]
    }
   ],
   "source": [
    "#Print list of ingredients\n",
    "typ = input(\"Cocktail: \")\n",
    "\n",
    "sql = f'''select * from drinklist where cocktail like \"%{typ}%\"\n",
    "            '''\n",
    "mycursor.execute(sql)\n",
    "\n",
    "mydata = mycursor.fetchall()\n",
    "\n",
    "print()\n",
    "print(\"Ingredient, Amount:\")\n",
    "\n",
    "for x in mydata:\n",
    "    print(f\"{x[1]}, {x[2]} oz.\") \n",
    "    \n",
    "sql = f'''select cocktail, price, round(cogs, 2), round(profit, 2) from drink_profit where cocktail like \"%{typ}%\"\n",
    "            '''\n",
    "mycursor.execute(sql)\n",
    "\n",
    "mydata = mycursor.fetchall()\n",
    "\n",
    "print()\n",
    "print(\"Price of cocktail:\")\n",
    "print(\"$\" + str(mydata[0][1]))\n",
    "print()\n",
    "print(\"Cost to make cocktail:\")\n",
    "print(\"$\" + str(mydata[0][2]))\n",
    "print()\n",
    "print(\"Profit from cocktail:\")\n",
    "print(\"$\" + str(mydata[0][3]))"
   ]
  },
  {
   "cell_type": "code",
   "execution_count": null,
   "metadata": {},
   "outputs": [],
   "source": []
  }
 ],
 "metadata": {
  "kernelspec": {
   "display_name": "Python 3",
   "language": "python",
   "name": "python3"
  },
  "language_info": {
   "codemirror_mode": {
    "name": "ipython",
    "version": 3
   },
   "file_extension": ".py",
   "mimetype": "text/x-python",
   "name": "python",
   "nbconvert_exporter": "python",
   "pygments_lexer": "ipython3",
   "version": "3.8.5"
  }
 },
 "nbformat": 4,
 "nbformat_minor": 4
}
